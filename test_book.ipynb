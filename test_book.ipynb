{
 "cells": [
  {
   "cell_type": "code",
   "execution_count": 46,
   "id": "665f9094",
   "metadata": {},
   "outputs": [],
   "source": [
    "from torch_geometric.datasets import Planetoid, MovieLens, MovieLens100K, OGB_MAG"
   ]
  },
  {
   "cell_type": "code",
   "execution_count": 47,
   "id": "dd4fc9f0",
   "metadata": {},
   "outputs": [],
   "source": [
    "import torch"
   ]
  },
  {
   "cell_type": "code",
   "execution_count": 48,
   "id": "cae995aa",
   "metadata": {},
   "outputs": [],
   "source": [
    "from torch_geometric.loader import LinkNeighborLoader"
   ]
  },
  {
   "cell_type": "code",
   "execution_count": 49,
   "id": "5cc7f2d5",
   "metadata": {},
   "outputs": [],
   "source": [
    "data = Planetoid(\"dataset/\", name='Cora')[0]"
   ]
  },
  {
   "cell_type": "code",
   "execution_count": 50,
   "id": "d874fcc5",
   "metadata": {},
   "outputs": [
    {
     "data": {
      "text/plain": [
       "Data(x=[2708, 1433], edge_index=[2, 10556], y=[2708], train_mask=[2708], val_mask=[2708], test_mask=[2708])"
      ]
     },
     "execution_count": 50,
     "metadata": {},
     "output_type": "execute_result"
    }
   ],
   "source": [
    "data"
   ]
  },
  {
   "cell_type": "code",
   "execution_count": 51,
   "id": "0fadd834",
   "metadata": {},
   "outputs": [
    {
     "data": {
      "text/plain": [
       "tensor([[   0,    0,    0,  ..., 2707, 2707, 2707],\n",
       "        [ 633, 1862, 2582,  ...,  598, 1473, 2706]])"
      ]
     },
     "execution_count": 51,
     "metadata": {},
     "output_type": "execute_result"
    }
   ],
   "source": [
    "data.edge_index"
   ]
  },
  {
   "cell_type": "code",
   "execution_count": 52,
   "id": "3b0f1618",
   "metadata": {},
   "outputs": [],
   "source": [
    "loader = LinkNeighborLoader(data, num_neighbors=[4]*2, batch_size=4, disjoint=True)"
   ]
  },
  {
   "cell_type": "code",
   "execution_count": 53,
   "id": "3737abcd",
   "metadata": {},
   "outputs": [],
   "source": [
    "load_iter = iter(loader)"
   ]
  },
  {
   "cell_type": "code",
   "execution_count": 54,
   "id": "83833461",
   "metadata": {},
   "outputs": [],
   "source": [
    "sampled_data = next(load_iter)"
   ]
  },
  {
   "cell_type": "code",
   "execution_count": 55,
   "id": "7e99f0c7",
   "metadata": {},
   "outputs": [
    {
     "data": {
      "text/plain": [
       "Data(x=[76, 1433], edge_index=[2, 104], y=[76], train_mask=[76], val_mask=[76], test_mask=[76], n_id=[76], e_id=[104], batch=[76], input_id=[4], edge_label_index=[2, 8])"
      ]
     },
     "execution_count": 55,
     "metadata": {},
     "output_type": "execute_result"
    }
   ],
   "source": [
    "sampled_data"
   ]
  },
  {
   "cell_type": "code",
   "execution_count": 56,
   "id": "270d3e9c",
   "metadata": {},
   "outputs": [],
   "source": [
    "def label_scan(edge_index, batch, n_edges):\n",
    "    \n",
    "    label_list = [float('inf')] * len(batch)\n",
    "    for i in range(2):\n",
    "        for j in range(n_edges):\n",
    "            label_list[(i * n_edges) + j] = i\n",
    "    for i in range(len(edge_index[0])):\n",
    "        v = edge_index[0][i]\n",
    "        u = edge_index[1][i]\n",
    "        if v > u:\n",
    "            label_list[v] = min(label_list[u] + 2, label_list[v])\n",
    "    \n",
    "    return label_list"
   ]
  },
  {
   "cell_type": "code",
   "execution_count": 57,
   "id": "e12d3eed",
   "metadata": {},
   "outputs": [
    {
     "data": {
      "text/plain": [
       "tensor([0, 0, 0, 0, 1, 1, 1, 1, 2, 2, 2, 2, 2, 2, 2, 2, 2, 2, 2, 2, 3, 3, 3, 3,\n",
       "        3, 3, 3, 3, 3, 3, 3, 3, 3, 3, 4, 4, 4, 4, 4, 4, 4, 4, 4, 4, 4, 4, 4, 4,\n",
       "        4, 4, 4, 5, 5, 5, 5, 5, 5, 5, 5, 5, 5, 5, 5, 5, 5, 5, 5, 5, 5, 5, 5, 5,\n",
       "        5, 5, 5, 5])"
      ]
     },
     "execution_count": 57,
     "metadata": {},
     "output_type": "execute_result"
    }
   ],
   "source": [
    "torch.tensor(label_scan(sampled_data.edge_index, sampled_data.batch, 4))"
   ]
  },
  {
   "cell_type": "code",
   "execution_count": 58,
   "id": "d38f7875",
   "metadata": {},
   "outputs": [
    {
     "data": {
      "text/plain": [
       "Data(x=[76, 1433], edge_index=[2, 104], y=[76], train_mask=[76], val_mask=[76], test_mask=[76], n_id=[76], e_id=[104], batch=[76], input_id=[4], edge_label_index=[2, 8])"
      ]
     },
     "execution_count": 58,
     "metadata": {},
     "output_type": "execute_result"
    }
   ],
   "source": [
    "sampled_data"
   ]
  },
  {
   "cell_type": "code",
   "execution_count": 59,
   "id": "f4f21b2f",
   "metadata": {},
   "outputs": [
    {
     "data": {
      "text/plain": [
       "tensor([[ 8,  9, 10, 11, 12, 13, 14, 15, 16, 17, 18, 19, 20, 21, 22, 23, 24, 25,\n",
       "         26, 27, 28, 29, 30, 31, 32, 33, 10,  0, 34, 35, 36,  0, 34,  8,  0, 37,\n",
       "         13,  1, 38, 39, 40,  1, 38, 11,  1, 41, 16,  2, 42, 43, 44,  2, 42, 14,\n",
       "          2, 45, 46, 47, 48, 49,  3,  3, 50,  4, 22, 51,  4, 52, 53, 54, 55, 56,\n",
       "          5, 24, 57,  5, 58, 23, 59, 60, 61, 62,  5,  6, 28, 63, 64, 27, 65,  6,\n",
       "          6, 66,  7, 67, 68,  7, 69,  7, 70, 71, 72, 73, 74, 75],\n",
       "        [ 0,  0,  0,  1,  1,  1,  2,  2,  2,  3,  3,  3,  4,  4,  4,  5,  5,  5,\n",
       "          5,  6,  6,  6,  7,  7,  7,  7,  8,  8,  8,  8,  9,  9,  9, 10, 10, 10,\n",
       "         11, 11, 11, 11, 12, 12, 12, 13, 13, 13, 14, 14, 14, 14, 15, 15, 15, 16,\n",
       "         16, 16, 17, 17, 17, 17, 18, 19, 19, 20, 20, 21, 21, 21, 22, 22, 22, 22,\n",
       "         23, 23, 23, 24, 24, 24, 25, 25, 25, 25, 26, 27, 27, 27, 27, 28, 28, 28,\n",
       "         29, 29, 30, 30, 30, 31, 32, 32, 32, 32, 33, 33, 33, 33]])"
      ]
     },
     "execution_count": 59,
     "metadata": {},
     "output_type": "execute_result"
    }
   ],
   "source": [
    "sampled_data.edge_index"
   ]
  },
  {
   "cell_type": "code",
   "execution_count": 60,
   "id": "7e1f97d9",
   "metadata": {},
   "outputs": [
    {
     "data": {
      "text/plain": [
       "tensor([[0., 0., 0.,  ..., 0., 0., 0.],\n",
       "        [0., 0., 0.,  ..., 0., 0., 0.],\n",
       "        [0., 0., 0.,  ..., 0., 0., 0.],\n",
       "        ...,\n",
       "        [0., 0., 0.,  ..., 0., 0., 0.],\n",
       "        [0., 0., 0.,  ..., 0., 0., 0.],\n",
       "        [0., 0., 0.,  ..., 0., 0., 0.]])"
      ]
     },
     "execution_count": 60,
     "metadata": {},
     "output_type": "execute_result"
    }
   ],
   "source": [
    "sampled_data.x"
   ]
  },
  {
   "cell_type": "code",
   "execution_count": 61,
   "id": "6f0e4e89",
   "metadata": {},
   "outputs": [
    {
     "data": {
      "text/plain": [
       "4"
      ]
     },
     "execution_count": 61,
     "metadata": {},
     "output_type": "execute_result"
    }
   ],
   "source": [
    "int(sampled_data.batch.max()) + 1"
   ]
  },
  {
   "cell_type": "code",
   "execution_count": 62,
   "id": "f0e25a0a",
   "metadata": {},
   "outputs": [
    {
     "data": {
      "text/plain": [
       "tensor([    0,     1,     2,     0,     1,     2,     0,     1,     2,     3,\n",
       "            4,     5,  2569,  2570,  2571,  7565,  7566,  7567,  7568, 10306,\n",
       "        10307, 10308,     7,     8,     6,    10,  7565,  7566,  7567,  7568,\n",
       "         2569,  2570,  2571, 10306, 10307, 10308,  7565,  7566,  7567,  7568,\n",
       "         2569,  2570,  2571, 10306, 10307, 10308,  7565,  7566,  7567,  7568,\n",
       "         2569,  2570,  2571, 10306, 10307, 10308,     6,     8,     9,    10,\n",
       "         2643,  2640,  2641,  7578,  7579,     0,     1,     2,  6771,  6777,\n",
       "         6759,  6742, 10306, 10307, 10308,     0,     1,     2,  6798,  6785,\n",
       "         6731,  6755,  3637,  7565,  7566,  7567,  7568,     0,     1,     2,\n",
       "         4550,  4551,     3,     4,     5,  5774,  6597,  6598,  6601,  6602,\n",
       "         1383,  1382,  1385,  1386])"
      ]
     },
     "execution_count": 62,
     "metadata": {},
     "output_type": "execute_result"
    }
   ],
   "source": [
    "sampled_data.e_id"
   ]
  },
  {
   "cell_type": "code",
   "execution_count": 63,
   "id": "3f1696d8",
   "metadata": {},
   "outputs": [
    {
     "data": {
      "text/plain": [
       "tensor([[ 0,  1,  2,  3,  4,  5,  6,  7],\n",
       "        [ 8,  9, 10, 11, 12, 13, 14, 15]])"
      ]
     },
     "execution_count": 63,
     "metadata": {},
     "output_type": "execute_result"
    }
   ],
   "source": [
    "sampled_data.edge_label_index"
   ]
  },
  {
   "cell_type": "code",
   "execution_count": 64,
   "id": "7c73a6f8",
   "metadata": {},
   "outputs": [
    {
     "data": {
      "text/plain": [
       "tensor([ 0,  4,  8,  9, 10, 20, 21, 22, 34, 35, 36, 37, 51, 52, 53, 54, 55, 56])"
      ]
     },
     "execution_count": 64,
     "metadata": {},
     "output_type": "execute_result"
    }
   ],
   "source": [
    "(sampled_data.batch == 0).nonzero().ravel()"
   ]
  },
  {
   "cell_type": "code",
   "execution_count": 65,
   "id": "c8fec71b",
   "metadata": {},
   "outputs": [],
   "source": [
    "het_data = MovieLens100K(\"dataset/\")[0]"
   ]
  },
  {
   "cell_type": "code",
   "execution_count": 66,
   "id": "07f3eaae",
   "metadata": {},
   "outputs": [
    {
     "data": {
      "text/plain": [
       "HeteroData(\n",
       "  \u001b[1mmovie\u001b[0m={ x=[1682, 18] },\n",
       "  \u001b[1muser\u001b[0m={ x=[943, 24] },\n",
       "  \u001b[1m(user, rates, movie)\u001b[0m={\n",
       "    edge_index=[2, 80000],\n",
       "    rating=[80000],\n",
       "    time=[80000],\n",
       "    edge_label_index=[2, 20000],\n",
       "    edge_label=[20000]\n",
       "  },\n",
       "  \u001b[1m(movie, rated_by, user)\u001b[0m={\n",
       "    edge_index=[2, 80000],\n",
       "    rating=[80000],\n",
       "    time=[80000]\n",
       "  }\n",
       ")"
      ]
     },
     "execution_count": 66,
     "metadata": {},
     "output_type": "execute_result"
    }
   ],
   "source": [
    "het_data"
   ]
  },
  {
   "cell_type": "code",
   "execution_count": 67,
   "id": "faef0a8e",
   "metadata": {},
   "outputs": [],
   "source": [
    "edge_type = list(het_data.edge_index_dict.keys())[0]"
   ]
  },
  {
   "cell_type": "code",
   "execution_count": 68,
   "id": "616771d3",
   "metadata": {},
   "outputs": [
    {
     "data": {
      "text/plain": [
       "('user', 'rates', 'movie')"
      ]
     },
     "execution_count": 68,
     "metadata": {},
     "output_type": "execute_result"
    }
   ],
   "source": [
    "edge_type"
   ]
  },
  {
   "cell_type": "code",
   "execution_count": 69,
   "id": "4e8e110c",
   "metadata": {},
   "outputs": [
    {
     "data": {
      "text/plain": [
       "tensor([[   0,    0,    0,  ...,  942,  942,  942],\n",
       "        [   0,    1,    2,  ..., 1187, 1227, 1329]])"
      ]
     },
     "execution_count": 69,
     "metadata": {},
     "output_type": "execute_result"
    }
   ],
   "source": [
    "het_data[edge_type].edge_index"
   ]
  },
  {
   "cell_type": "code",
   "execution_count": 70,
   "id": "c6df37bd",
   "metadata": {},
   "outputs": [
    {
     "data": {
      "text/plain": [
       "(('user', 'rates', 'movie'),\n",
       " tensor([[   0,    0,    0,  ...,  942,  942,  942],\n",
       "         [   0,    1,    2,  ..., 1187, 1227, 1329]]))"
      ]
     },
     "execution_count": 70,
     "metadata": {},
     "output_type": "execute_result"
    }
   ],
   "source": [
    "(edge_type, het_data[edge_type].edge_index)"
   ]
  },
  {
   "cell_type": "code",
   "execution_count": 71,
   "id": "5ff9a827",
   "metadata": {},
   "outputs": [],
   "source": [
    "het_loader = LinkNeighborLoader(het_data, num_neighbors=[4]*2, batch_size=4, disjoint=True, edge_label_index=edge_type)"
   ]
  },
  {
   "cell_type": "code",
   "execution_count": 72,
   "id": "77bb9733",
   "metadata": {},
   "outputs": [],
   "source": [
    "het_loader_iter = iter(het_loader)"
   ]
  },
  {
   "cell_type": "code",
   "execution_count": 73,
   "id": "69b09345",
   "metadata": {},
   "outputs": [],
   "source": [
    "slicer = next(het_loader_iter)"
   ]
  },
  {
   "cell_type": "code",
   "execution_count": 74,
   "id": "d2c332bb",
   "metadata": {},
   "outputs": [
    {
     "data": {
      "text/plain": [
       "HeteroData(\n",
       "  \u001b[1mmovie\u001b[0m={\n",
       "    x=[82, 18],\n",
       "    n_id=[82],\n",
       "    batch=[82]\n",
       "  },\n",
       "  \u001b[1muser\u001b[0m={\n",
       "    x=[84, 24],\n",
       "    n_id=[84],\n",
       "    batch=[84]\n",
       "  },\n",
       "  \u001b[1m(user, rates, movie)\u001b[0m={\n",
       "    edge_index=[2, 80],\n",
       "    rating=[80],\n",
       "    time=[80],\n",
       "    edge_label_index=[2, 4],\n",
       "    e_id=[80],\n",
       "    input_id=[4]\n",
       "  },\n",
       "  \u001b[1m(movie, rated_by, user)\u001b[0m={\n",
       "    edge_index=[2, 80],\n",
       "    rating=[80],\n",
       "    time=[80],\n",
       "    e_id=[80]\n",
       "  }\n",
       ")"
      ]
     },
     "execution_count": 74,
     "metadata": {},
     "output_type": "execute_result"
    }
   ],
   "source": [
    "slicer"
   ]
  },
  {
   "cell_type": "code",
   "execution_count": 75,
   "id": "5a33a352",
   "metadata": {},
   "outputs": [
    {
     "data": {
      "text/plain": [
       "HeteroData(\n",
       "  \u001b[1mmovie\u001b[0m={\n",
       "    x=[82, 18],\n",
       "    n_id=[82],\n",
       "    batch=[82]\n",
       "  },\n",
       "  \u001b[1muser\u001b[0m={\n",
       "    x=[84, 24],\n",
       "    n_id=[84],\n",
       "    batch=[84]\n",
       "  },\n",
       "  \u001b[1m(user, rates, movie)\u001b[0m={\n",
       "    edge_index=[2, 80],\n",
       "    rating=[80],\n",
       "    time=[80],\n",
       "    edge_label_index=[2, 4],\n",
       "    e_id=[80],\n",
       "    input_id=[4]\n",
       "  },\n",
       "  \u001b[1m(movie, rated_by, user)\u001b[0m={\n",
       "    edge_index=[2, 80],\n",
       "    rating=[80],\n",
       "    time=[80],\n",
       "    e_id=[80]\n",
       "  }\n",
       ")"
      ]
     },
     "execution_count": 75,
     "metadata": {},
     "output_type": "execute_result"
    }
   ],
   "source": [
    "slicer"
   ]
  },
  {
   "cell_type": "code",
   "execution_count": 76,
   "id": "f528a56d",
   "metadata": {},
   "outputs": [
    {
     "data": {
      "text/plain": [
       "['movie', 'user']"
      ]
     },
     "execution_count": 76,
     "metadata": {},
     "output_type": "execute_result"
    }
   ],
   "source": [
    "slicer.node_types"
   ]
  },
  {
   "cell_type": "code",
   "execution_count": 77,
   "id": "f3cecf5f",
   "metadata": {},
   "outputs": [
    {
     "data": {
      "text/plain": [
       "tensor([0, 1, 2, 3, 0, 0, 0, 0, 1, 1, 1, 1, 2, 2, 2, 2, 3, 3, 3, 3, 0, 0, 0, 0,\n",
       "        0, 0, 0, 0, 0, 0, 0, 0, 0, 0, 0, 0, 1, 1, 1, 1, 1, 1, 1, 1, 1, 1, 1, 1,\n",
       "        1, 1, 1, 1, 2, 2, 2, 2, 2, 2, 2, 2, 2, 2, 2, 2, 2, 2, 2, 2, 3, 3, 3, 3,\n",
       "        3, 3, 3, 3, 3, 3, 3, 3, 3, 3, 3, 3])"
      ]
     },
     "execution_count": 77,
     "metadata": {},
     "output_type": "execute_result"
    }
   ],
   "source": [
    "slicer[\"user\"].batch"
   ]
  },
  {
   "cell_type": "code",
   "execution_count": null,
   "id": "82647fb4",
   "metadata": {},
   "outputs": [],
   "source": []
  },
  {
   "cell_type": "code",
   "execution_count": 78,
   "id": "72bad46b",
   "metadata": {},
   "outputs": [
    {
     "data": {
      "text/plain": [
       "{('user',\n",
       "  'rates',\n",
       "  'movie'): tensor([[ 4,  5,  6,  7,  8,  9, 10, 11, 12, 13, 14, 15, 16, 17, 18, 19, 20, 21,\n",
       "          22, 23, 24, 25, 26, 27, 28, 29, 30, 31, 32, 33, 34, 35, 36, 37, 38, 39,\n",
       "          40, 41, 42, 43, 44, 45, 46, 47, 48, 49, 50, 51, 52, 53, 54, 55, 56, 57,\n",
       "          58, 59, 60, 61, 62, 63, 64, 65, 66, 67, 68, 69, 70, 71, 72, 73, 74, 75,\n",
       "          76, 77, 78, 79, 80, 81, 82, 83],\n",
       "         [ 0,  0,  0,  0,  1,  1,  1,  1,  2,  2,  2,  2,  3,  3,  3,  3,  4,  4,\n",
       "           4,  4,  5,  5,  5,  5,  6,  6,  6,  6,  7,  7,  7,  7,  8,  8,  8,  8,\n",
       "           9,  9,  9,  9, 10, 10, 10, 10, 11, 11, 11, 11, 12, 12, 12, 12, 13, 13,\n",
       "          13, 13, 14, 14, 14, 14, 15, 15, 15, 15, 16, 16, 16, 16, 17, 17, 17, 17,\n",
       "          18, 18, 18, 18, 19, 19, 19, 19]]),\n",
       " ('movie',\n",
       "  'rated_by',\n",
       "  'user'): tensor([[ 4,  5,  6,  7,  8,  9, 10, 11, 12, 13, 14, 15, 16, 17, 18, 19, 20, 21,\n",
       "          22, 23, 24, 25, 26, 27, 28, 29, 30, 31, 30, 32, 33, 34, 35, 36, 37, 38,\n",
       "          39, 40, 41, 42, 43, 44, 45, 46, 47, 48, 49, 50, 51, 52, 53, 54, 55, 56,\n",
       "          57, 58, 59, 60, 61, 62, 63, 64, 65, 66, 67, 68, 69, 70, 71, 72, 73, 74,\n",
       "          75, 70, 76, 77, 78, 79, 80, 81],\n",
       "         [ 0,  0,  0,  0,  1,  1,  1,  1,  2,  2,  2,  2,  3,  3,  3,  3,  4,  4,\n",
       "           4,  4,  5,  5,  5,  5,  6,  6,  6,  6,  7,  7,  7,  7,  8,  8,  8,  8,\n",
       "           9,  9,  9,  9, 10, 10, 10, 10, 11, 11, 11, 11, 12, 12, 12, 12, 13, 13,\n",
       "          13, 13, 14, 14, 14, 14, 15, 15, 15, 15, 16, 16, 16, 16, 17, 17, 17, 17,\n",
       "          18, 18, 18, 18, 19, 19, 19, 19]])}"
      ]
     },
     "execution_count": 78,
     "metadata": {},
     "output_type": "execute_result"
    }
   ],
   "source": [
    "slicer.edge_index_dict"
   ]
  },
  {
   "cell_type": "code",
   "execution_count": 79,
   "id": "fc2a1bb8",
   "metadata": {},
   "outputs": [],
   "source": [
    "from torch_geometric.nn.models.igmc import igmc_node_label"
   ]
  },
  {
   "cell_type": "code",
   "execution_count": 80,
   "id": "44bfa818",
   "metadata": {},
   "outputs": [
    {
     "data": {
      "text/plain": [
       "tensor([0, 1, 2, 3, 0, 0, 0, 0, 1, 1, 1, 1, 2, 2, 2, 2, 3, 3, 3, 3, 0, 0, 0, 0,\n",
       "        0, 0, 0, 0, 0, 0, 0, 0, 0, 0, 0, 1, 1, 1, 1, 1, 1, 1, 1, 1, 1, 1, 1, 1,\n",
       "        1, 1, 1, 2, 2, 2, 2, 2, 2, 2, 2, 2, 2, 2, 2, 2, 2, 2, 2, 3, 3, 3, 3, 3,\n",
       "        3, 3, 3, 3, 3, 3, 3, 3, 3, 3])"
      ]
     },
     "execution_count": 80,
     "metadata": {},
     "output_type": "execute_result"
    }
   ],
   "source": [
    "slicer['movie'].batch"
   ]
  },
  {
   "cell_type": "code",
   "execution_count": 81,
   "id": "9ead4abf",
   "metadata": {},
   "outputs": [
    {
     "data": {
      "text/plain": [
       "['movie', 'user']"
      ]
     },
     "execution_count": 81,
     "metadata": {},
     "output_type": "execute_result"
    }
   ],
   "source": [
    "slicer.node_types"
   ]
  },
  {
   "cell_type": "code",
   "execution_count": 82,
   "id": "c3d813fb",
   "metadata": {},
   "outputs": [
    {
     "data": {
      "text/plain": [
       "HeteroData(\n",
       "  \u001b[1mmovie\u001b[0m={\n",
       "    x=[82, 18],\n",
       "    n_id=[82],\n",
       "    batch=[82],\n",
       "    igmc_id=[82]\n",
       "  },\n",
       "  \u001b[1muser\u001b[0m={\n",
       "    x=[84, 24],\n",
       "    n_id=[84],\n",
       "    batch=[84],\n",
       "    igmc_id=[84]\n",
       "  },\n",
       "  \u001b[1m(user, rates, movie)\u001b[0m={\n",
       "    edge_index=[2, 80],\n",
       "    rating=[80],\n",
       "    time=[80],\n",
       "    edge_label_index=[2, 4],\n",
       "    e_id=[80],\n",
       "    input_id=[4]\n",
       "  },\n",
       "  \u001b[1m(movie, rated_by, user)\u001b[0m={\n",
       "    edge_index=[2, 80],\n",
       "    rating=[80],\n",
       "    time=[80],\n",
       "    e_id=[80]\n",
       "  }\n",
       ")"
      ]
     },
     "execution_count": 82,
     "metadata": {},
     "output_type": "execute_result"
    }
   ],
   "source": [
    "igmc_node_label(slicer, 4, edge_type)"
   ]
  },
  {
   "cell_type": "code",
   "execution_count": 148,
   "id": "dfef7013",
   "metadata": {},
   "outputs": [],
   "source": [
    "import torch\n",
    "from torch_geometric.data import HeteroData\n",
    "from torch_geometric.loader import LinkNeighborLoader\n",
    "data = HeteroData()\n",
    "\n",
    "data['user'].x = torch.arange(6)\n",
    "data['movie'].x = torch.arange(6, 13)\n",
    "\n",
    "data['user', 'movie'].edge_index = torch.stack([torch.tensor([0,0,0,1,2,2,2,3,3,3,4,5]), torch.tensor([0,1,2,0,0,5,6,0,3,4,2,2]) ])\n",
    "data['movie', 'user'].edge_index = torch.stack([torch.tensor([0,0,0,0,1,2,2,2,3,4,5,6]), torch.tensor([0,1,2,3,0,0,4,5,3,3,2,2]),])\n",
    "test_loader = LinkNeighborLoader(data, num_neighbors=[-1]*2, batch_size=1, disjoint=True, edge_label_index=(('user', 'to', 'movie'), torch.tensor([[0], [0]])))\n",
    "test_batch = next(iter(test_loader))"
   ]
  },
  {
   "cell_type": "code",
   "execution_count": 147,
   "id": "314dc745",
   "metadata": {},
   "outputs": [
    {
     "data": {
      "text/plain": [
       "HeteroData(\n",
       "  \u001b[1muser\u001b[0m={ x=[6] },\n",
       "  \u001b[1mmovie\u001b[0m={ x=[7] },\n",
       "  \u001b[1m(user, to, movie)\u001b[0m={ edge_index=[2, 12] },\n",
       "  \u001b[1m(movie, to, user)\u001b[0m={ edge_index=[2, 12] }\n",
       ")"
      ]
     },
     "execution_count": 147,
     "metadata": {},
     "output_type": "execute_result"
    }
   ],
   "source": [
    "data"
   ]
  },
  {
   "cell_type": "code",
   "execution_count": 138,
   "id": "bc2c5957",
   "metadata": {},
   "outputs": [],
   "source": []
  },
  {
   "cell_type": "code",
   "execution_count": 139,
   "id": "b3bee0c1",
   "metadata": {},
   "outputs": [],
   "source": [
    "test_batch = next(iter(test_loader))"
   ]
  },
  {
   "cell_type": "code",
   "execution_count": 140,
   "id": "f5403c4a",
   "metadata": {},
   "outputs": [
    {
     "data": {
      "text/plain": [
       "HeteroData(\n",
       "  \u001b[1muser\u001b[0m={\n",
       "    x=[10],\n",
       "    n_id=[10],\n",
       "    batch=[10]\n",
       "  },\n",
       "  \u001b[1mmovie\u001b[0m={\n",
       "    x=[10],\n",
       "    n_id=[10],\n",
       "    batch=[10]\n",
       "  },\n",
       "  \u001b[1m(user, to, movie)\u001b[0m={\n",
       "    edge_index=[2, 12],\n",
       "    e_id=[12],\n",
       "    input_id=[1],\n",
       "    edge_label_index=[2, 1]\n",
       "  },\n",
       "  \u001b[1m(movie, to, user)\u001b[0m={\n",
       "    edge_index=[2, 13],\n",
       "    e_id=[13]\n",
       "  }\n",
       ")"
      ]
     },
     "execution_count": 140,
     "metadata": {},
     "output_type": "execute_result"
    }
   ],
   "source": [
    "test_batch"
   ]
  },
  {
   "cell_type": "code",
   "execution_count": 141,
   "id": "c5bd7b60",
   "metadata": {},
   "outputs": [
    {
     "data": {
      "text/plain": [
       "tensor([0, 0, 1, 2, 3, 1, 2, 3, 4, 5])"
      ]
     },
     "execution_count": 141,
     "metadata": {},
     "output_type": "execute_result"
    }
   ],
   "source": [
    "test_batch[\"user\"].n_id"
   ]
  },
  {
   "cell_type": "code",
   "execution_count": 142,
   "id": "35ad3259",
   "metadata": {},
   "outputs": [
    {
     "data": {
      "text/plain": [
       "tensor([[1, 2, 3, 4, 0, 5, 6, 7, 0, 0, 8, 9],\n",
       "        [0, 0, 0, 0, 1, 1, 1, 1, 2, 3, 3, 3]])"
      ]
     },
     "execution_count": 142,
     "metadata": {},
     "output_type": "execute_result"
    }
   ],
   "source": [
    "test_batch[(\"user\", \"to\", \"movie\")].edge_index"
   ]
  },
  {
   "cell_type": "code",
   "execution_count": 143,
   "id": "5e01ec22",
   "metadata": {},
   "outputs": [
    {
     "data": {
      "text/plain": [
       "tensor([0, 1, 2, 3, 0, 1, 2, 3, 4, 5, 6, 7])"
      ]
     },
     "execution_count": 143,
     "metadata": {},
     "output_type": "execute_result"
    }
   ],
   "source": [
    "test_batch[(\"user\", \"to\", \"movie\")].e_id"
   ]
  },
  {
   "cell_type": "code",
   "execution_count": 145,
   "id": "f30e359b",
   "metadata": {},
   "outputs": [
    {
     "data": {
      "text/plain": [
       "tensor([[1, 2, 3, 0, 4, 5, 0, 0, 6, 7, 0, 8, 9],\n",
       "        [0, 0, 0, 1, 1, 1, 2, 3, 3, 3, 4, 4, 4]])"
      ]
     },
     "execution_count": 145,
     "metadata": {},
     "output_type": "execute_result"
    }
   ],
   "source": [
    "test_batch[(\"movie\", \"to\", \"user\")].edge_index"
   ]
  },
  {
   "cell_type": "code",
   "execution_count": 89,
   "id": "11d953db",
   "metadata": {},
   "outputs": [],
   "source": [
    "res_batch = igmc_node_label(test_batch, 4, edge_direction=('paper', 'to', 'author'))"
   ]
  },
  {
   "cell_type": "code",
   "execution_count": 90,
   "id": "5ec9148b",
   "metadata": {},
   "outputs": [
    {
     "data": {
      "text/plain": [
       "tensor([0, 0, 0, 0, 2, 2, 2, 2, 2, 2, 2, 2, 2, 2, 2, 2, 2, 2, 4, 4, 4, 4, 4, 4,\n",
       "        4, 4, 4, 4, 4, 4, 4, 4, 4, 4, 4, 4, 4, 4, 4, 4, 4, 4, 4, 4])"
      ]
     },
     "execution_count": 90,
     "metadata": {},
     "output_type": "execute_result"
    }
   ],
   "source": [
    "res_batch['paper'].igmc_id"
   ]
  },
  {
   "cell_type": "code",
   "execution_count": null,
   "id": "b9b6f835",
   "metadata": {},
   "outputs": [],
   "source": []
  },
  {
   "cell_type": "code",
   "execution_count": null,
   "id": "d1f0d032",
   "metadata": {},
   "outputs": [],
   "source": []
  }
 ],
 "metadata": {
  "kernelspec": {
   "display_name": "Python 3 (ipykernel)",
   "language": "python",
   "name": "python3"
  },
  "language_info": {
   "codemirror_mode": {
    "name": "ipython",
    "version": 3
   },
   "file_extension": ".py",
   "mimetype": "text/x-python",
   "name": "python",
   "nbconvert_exporter": "python",
   "pygments_lexer": "ipython3",
   "version": "3.10.11"
  }
 },
 "nbformat": 4,
 "nbformat_minor": 5
}
